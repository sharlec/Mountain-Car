{
 "cells": [
  {
   "cell_type": "code",
   "execution_count": 1,
   "id": "ddbfb8a7",
   "metadata": {},
   "outputs": [],
   "source": [
    "import gym\n",
    "import numpy as np\n",
    "import random"
   ]
  },
  {
   "cell_type": "code",
   "execution_count": 2,
   "id": "538ad511",
   "metadata": {},
   "outputs": [],
   "source": [
    "\"\"\"\n",
    "I implement the discretize function in the agent class\n",
    "\n",
    "this is just a regular Q-learning implementation\n",
    "\"\"\"\n",
    "from collections import defaultdict\n",
    "from tqdm import tqdm\n",
    "from sklearn.cluster import DBSCAN\n",
    "from sklearn.cluster import KMeans\n",
    "from sklearn.metrics import silhouette_score\n",
    "from sklearn.preprocessing import StandardScaler\n",
    "from tqdm import tqdm\n",
    "class Qlearning():\n",
    "    def __init__(self,\n",
    "                env,gamma,epsilon,alpha, n_states):\n",
    "        self.env = env\n",
    "        self.gamma = gamma\n",
    "        self.epsilon = epsilon\n",
    "        self.alpha = alpha\n",
    "        self.q = defaultdict(lambda : np.zeros(env.action_space.n))\n",
    "        self.n_states = n_states\n",
    "        \n",
    "    def discretize(self, state):\n",
    "        env_low = self.env.observation_space.low\n",
    "        env_high = self.env.observation_space.high\n",
    "        env_dx = (env_high - env_low) / self.n_states\n",
    "        pos = int((state[0] - env_low[0])/env_dx[0])\n",
    "        v = int((state[1] - env_low[1])/env_dx[1])\n",
    "        return frozenset([pos,v])\n",
    "        \n",
    "    def choose_action(self, state):\n",
    "        epsilon = self.epsilon\n",
    "        if np.random.random() < epsilon:\n",
    "            return env.action_space.sample()\n",
    "        else:\n",
    "            return np.argmax(self.q[state])\n",
    "    \n",
    "    def update_q(self, state, action, next_state,  reward):\n",
    "        next_action = np.argmax(self.q[next_state])\n",
    "        self.q[state][action] += self.alpha * (reward + self.gamma * self.q[next_state][next_action] - self.q[state][action])\n",
    "        \n",
    "    def run_step(self, state, action):\n",
    "        next_state_c, reward, done, _ = self.env.step(action)\n",
    "        next_state = self.discretize(next_state_c)       \n",
    "        next_action = self.choose_action(next_state)\n",
    "        self.update_q(state,action,next_state,reward)\n",
    "        return next_state, next_action,reward,done\n",
    "        \n",
    "    def run_episode(self):\n",
    "        epsilon = self.epsilon\n",
    "        alpha = self.alpha\n",
    "        episode_return = 0\n",
    "        state = self.discretize(self.env.reset())\n",
    "        \n",
    "        while True:\n",
    "            action = self.choose_action(state)\n",
    "            state, action, reward,done = self.run_step(state,action)\n",
    "            episode_return+= reward\n",
    "            if done:\n",
    "                break      \n",
    "        return episode_return\n",
    "    \n",
    "    def learn_task(self, n):\n",
    "        returns = []\n",
    "        for i in tqdm(range(n)):\n",
    "            episode_return = self.run_episode()\n",
    "            returns.append(episode_return)\n",
    "        return returns\n",
    "    \n",
    "    def show(self):\n",
    "        state = self.discretize(self.env.reset())\n",
    "        episode_return = 0\n",
    "        while True:\n",
    "            action = self.choose_action(state)\n",
    "            state, action, reward,done = self.run_step(state,action)\n",
    "            env.render()\n",
    "            episode_return+= reward\n",
    "            if done:\n",
    "                break\n",
    "        return episode_return\n",
    "    "
   ]
  },
  {
   "cell_type": "code",
   "execution_count": 3,
   "id": "20b2480c",
   "metadata": {
    "scrolled": true
   },
   "outputs": [
    {
     "name": "stderr",
     "output_type": "stream",
     "text": [
      "100%|█████████████████████████████████████| 20000/20000 [04:17<00:00, 77.69it/s]\n"
     ]
    }
   ],
   "source": [
    "\"\"\"\n",
    "Train the agent\n",
    "\"\"\"\n",
    "\n",
    "env = gym.make('MountainCar-v0')\n",
    "q_agent = Qlearning(env , gamma = 1, epsilon = 0.1,\n",
    "           alpha = 0.1, n_states = 30)\n",
    "\n",
    "q_returns = q_agent.learn_task(20000)"
   ]
  },
  {
   "cell_type": "code",
   "execution_count": 4,
   "id": "72abffc0",
   "metadata": {},
   "outputs": [
    {
     "data": {
      "text/plain": [
       "-89.0"
      ]
     },
     "execution_count": 4,
     "metadata": {},
     "output_type": "execute_result"
    }
   ],
   "source": [
    "\"\"\"Take a look on the best performance\"\"\"\n",
    "np.max(q_returns)"
   ]
  },
  {
   "cell_type": "code",
   "execution_count": 5,
   "id": "c7d3702a",
   "metadata": {},
   "outputs": [
    {
     "data": {
      "text/plain": [
       "[<matplotlib.lines.Line2D at 0x7f7c2f473be0>]"
      ]
     },
     "execution_count": 5,
     "metadata": {},
     "output_type": "execute_result"
    },
    {
     "data": {
      "image/png": "[encoded data removed]",
      "text/plain": [
       "<Figure size 432x288 with 1 Axes>"
      ]
     },
     "metadata": {
      "needs_background": "light"
     },
     "output_type": "display_data"
    }
   ],
   "source": [
    "from matplotlib import pyplot as plt\n",
    "from scipy.interpolate import pchip\n",
    "import pandas as pd\n",
    "\n",
    "\n",
    "\"\"\"\n",
    "Prepare moving average function and success rate function\n",
    "\n",
    "\n",
    "success rate function is given a set of episode results,\n",
    "compute the percentage of reaching the goals\n",
    "\"\"\"\n",
    "\n",
    "def moving_average(a,n):\n",
    "    N=len(a)\n",
    "    return np.array([np.mean(a[i:i+n]) for i in np.arange(0,N-n+1)])\n",
    "\n",
    "def success_rate(results):\n",
    "    count = 0.0\n",
    "    total = float(len(results))\n",
    "    for r in results:\n",
    "        if r > -200:\n",
    "            count += 1.0\n",
    "    return (count/total)\n",
    "\n",
    "Q_smooth = moving_average(q_returns, 500)\n",
    "plt.plot(Q_smooth)"
   ]
  },
  {
   "cell_type": "code",
   "execution_count": 7,
   "id": "c1e9345c",
   "metadata": {},
   "outputs": [
    {
     "name": "stderr",
     "output_type": "stream",
     "text": [
      "100%|███████████████████████████████████████| 1000/1000 [00:12<00:00, 82.99it/s]\n"
     ]
    }
   ],
   "source": [
    "\"\"\"\n",
    "train the agent for another 1000 rounds to see how does the agent perform\n",
    "\n",
    "This is not so ideal, what if we switch to Expected Sarsa?\n",
    "\"\"\"\n",
    "\n",
    "q_test = q_agent.learn_task(1000)\n"
   ]
  },
  {
   "cell_type": "code",
   "execution_count": 8,
   "id": "adec93ab",
   "metadata": {},
   "outputs": [
    {
     "name": "stdout",
     "output_type": "stream",
     "text": [
      "0.586\n"
     ]
    }
   ],
   "source": [
    "\"\"\"\n",
    "After the q-learning agent converage, the success rate is as follow\n",
    "\"\"\"\n",
    "print(success_rate(q_test))"
   ]
  },
  {
   "cell_type": "code",
   "execution_count": 9,
   "id": "6557b041",
   "metadata": {},
   "outputs": [],
   "source": [
    "\"\"\"\n",
    "Implement the Expected Sarsa for mountain car\n",
    "\"\"\"\n",
    "\n",
    "from collections import defaultdict\n",
    "from tqdm import tqdm\n",
    "from sklearn.cluster import DBSCAN\n",
    "from sklearn.cluster import KMeans\n",
    "from sklearn.metrics import silhouette_score\n",
    "from sklearn.preprocessing import StandardScaler\n",
    "from tqdm import tqdm\n",
    "\n",
    "class ESarsa():\n",
    "    def __init__(self,\n",
    "                env,gamma,epsilon,alpha, n_states):\n",
    "        self.env = env\n",
    "        self.gamma = gamma\n",
    "        self.epsilon = epsilon\n",
    "        self.alpha = alpha\n",
    "        self.q = defaultdict(lambda : np.zeros(env.action_space.n))\n",
    "        self.n_states = n_states\n",
    "    \n",
    "    \n",
    "    def discretize(self, state):\n",
    "        env_low = self.env.observation_space.low\n",
    "        env_high = self.env.observation_space.high\n",
    "        env_dx = (env_high - env_low) / self.n_states\n",
    "        pos = int((state[0] - env_low[0])/env_dx[0])#'/'\n",
    "        v = int((state[1] - env_low[1])/env_dx[1])\n",
    "        return frozenset([pos,v])\n",
    "        \n",
    "    def choose_action(self, state):\n",
    "        epsilon = self.epsilon\n",
    "        if np.random.random() < epsilon:\n",
    "            return env.action_space.sample()\n",
    "        else:\n",
    "            return np.argmax(self.q[state])\n",
    "        \n",
    "    def action_possibility(self, state):\n",
    "        epsilon = self.epsilon\n",
    "        P = []\n",
    "        actions = self.q[state]\n",
    "        n = env.action_space.n\n",
    "        for i in range(0,n):\n",
    "            if i == np.argmax(actions):\n",
    "                P.append((epsilon/n) + 1 - epsilon)\n",
    "            else:\n",
    "                P.append(epsilon/n)\n",
    "        return P\n",
    "            \n",
    "    def update_q(self, state, action, next_state, next_action, reward):\n",
    "        P = self.action_possibility(next_state)        \n",
    "        V = P * self.q[next_state]\n",
    "        self.q[state][action] += self.alpha * (reward + self.gamma*sum(V) - self.q[state][action])\n",
    "        \n",
    "          \n",
    "    def run_step(self, state, action):\n",
    "        next_state_c, reward, done, _ = self.env.step(action)\n",
    "        next_state = self.discretize(next_state_c)       \n",
    "        next_action = self.choose_action(next_state)\n",
    "        self.update_q(state,action,next_state,next_action,reward)\n",
    "        return next_state, next_action,reward,done\n",
    "        \n",
    "    def run_episode(self):\n",
    "        epsilon = self.epsilon\n",
    "        alpha = self.alpha\n",
    "        episode_return = 0\n",
    "        state = self.discretize(self.env.reset())\n",
    "        \n",
    "        while True:\n",
    "            action = self.choose_action(state)\n",
    "            state, action, reward,done = self.run_step(state,action)\n",
    "            episode_return+= reward\n",
    "            if done:\n",
    "                break      \n",
    "        return episode_return\n",
    "    \n",
    "    def learn_task(self, n):\n",
    "        returns = []\n",
    "        for i in tqdm(range(n)):\n",
    "            episode_return = self.run_episode()\n",
    "            returns.append(episode_return)\n",
    "        return returns\n",
    "    \n",
    "    def show(self):\n",
    "        state = self.discretize(self.env.reset())\n",
    "        episode_return = 0\n",
    "        while True:\n",
    "            action = self.choose_action(state)\n",
    "            state, action, reward,done = self.run_step(state,action)\n",
    "            env.render()\n",
    "            episode_return+= reward\n",
    "            if done:\n",
    "                break\n",
    "        return episode_return"
   ]
  },
  {
   "cell_type": "code",
   "execution_count": 10,
   "id": "b735ac82",
   "metadata": {},
   "outputs": [
    {
     "name": "stderr",
     "output_type": "stream",
     "text": [
      "100%|█████████████████████████████████████| 20000/20000 [04:25<00:00, 75.36it/s]\n"
     ]
    }
   ],
   "source": [
    "\"\"\"Train the Expected Sarsa Agent\"\"\"\n",
    "\n",
    "env = gym.make('MountainCar-v0')\n",
    "e_agent = ESarsa(env , gamma = 1, epsilon = 0.01,\n",
    "           alpha = 0.1, n_states = 30)\n",
    "\n",
    "E = e_agent.learn_task(20000)"
   ]
  },
  {
   "cell_type": "code",
   "execution_count": 11,
   "id": "f4b4e75f",
   "metadata": {},
   "outputs": [
    {
     "data": {
      "image/png": "[encoded data removed]",
      "text/plain": [
       "<Figure size 432x288 with 1 Axes>"
      ]
     },
     "metadata": {
      "needs_background": "light"
     },
     "output_type": "display_data"
    }
   ],
   "source": [
    "E_sarsa_smooth = moving_average(E, 1000)\n",
    "plt.plot(E_sarsa_smooth,label=\"Expected SARSA\")\n",
    "plt.plot(Q_smooth,label = \"Q-learning\")\n",
    "plt.legend()\n",
    "plt.show()"
   ]
  },
  {
   "cell_type": "code",
   "execution_count": 12,
   "id": "9c8ebf4d",
   "metadata": {},
   "outputs": [
    {
     "name": "stderr",
     "output_type": "stream",
     "text": [
      "100%|███████████████████████████████████████| 1000/1000 [00:14<00:00, 69.74it/s]\n"
     ]
    }
   ],
   "source": [
    "e_test = e_agent.learn_task(1000)\n",
    "e_result = 0"
   ]
  },
  {
   "cell_type": "code",
   "execution_count": 16,
   "id": "4350ba76",
   "metadata": {},
   "outputs": [
    {
     "name": "stdout",
     "output_type": "stream",
     "text": [
      "The success rate of q-learning agent after 20000 runs training is: \t 0.586\n",
      "The success rate of expected Sarsa agent after 20000 runs training is: \t 0.842\n"
     ]
    }
   ],
   "source": [
    "print(\"The success rate of q-learning agent after 20000 runs training is: \\t\",success_rate(q_test))\n",
    "print(\"The success rate of expected Sarsa agent after 20000 runs training is: \\t\",success_rate(e_test))"
   ]
  },
  {
   "cell_type": "code",
   "execution_count": 20,
   "id": "170b452d",
   "metadata": {},
   "outputs": [
    {
     "data": {
      "text/plain": [
       "'\\nThe following command can be used for a test run\\n'"
      ]
     },
     "execution_count": 20,
     "metadata": {},
     "output_type": "execute_result"
    }
   ],
   "source": [
    "\"\"\"\n",
    "The following command can be used for a test run\n",
    "\"\"\"\n",
    "\n",
    "# q_agent.show()\n",
    "# e_agent.show()"
   ]
  },
  {
   "cell_type": "code",
   "execution_count": null,
   "id": "ec3e8ec1",
   "metadata": {},
   "outputs": [],
   "source": []
  }
 ],
 "metadata": {
  "kernelspec": {
   "display_name": "Python 3 (ipykernel)",
   "language": "python",
   "name": "python3"
  },
  "language_info": {
   "codemirror_mode": {
    "name": "ipython",
    "version": 3
   },
   "file_extension": ".py",
   "mimetype": "text/x-python",
   "name": "python",
   "nbconvert_exporter": "python",
   "pygments_lexer": "ipython3",
   "version": "3.8.12"
  }
 },
 "nbformat": 4,
 "nbformat_minor": 5
}
